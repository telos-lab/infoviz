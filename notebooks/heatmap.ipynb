{
 "cells": [
  {
   "cell_type": "code",
   "execution_count": 1,
   "id": "7c55d26a-7a81-4a40-afcf-50e5079a25fb",
   "metadata": {},
   "outputs": [],
   "source": [
    "%run helper.py"
   ]
  },
  {
   "cell_type": "markdown",
   "id": "20184ca3-d5cf-4ee2-b052-734b432ce2cd",
   "metadata": {},
   "source": [
    "## Heatmap"
   ]
  },
  {
   "cell_type": "code",
   "execution_count": 2,
   "id": "4d3be907-5968-497c-af05-3f12f9bbabcd",
   "metadata": {},
   "outputs": [
    {
     "data": {
      "text/html": [
       "<div>\n",
       "<style scoped>\n",
       "    .dataframe tbody tr th:only-of-type {\n",
       "        vertical-align: middle;\n",
       "    }\n",
       "\n",
       "    .dataframe tbody tr th {\n",
       "        vertical-align: top;\n",
       "    }\n",
       "\n",
       "    .dataframe thead th {\n",
       "        text-align: right;\n",
       "    }\n",
       "</style>\n",
       "<table border=\"1\" class=\"dataframe\">\n",
       "  <thead>\n",
       "    <tr style=\"text-align: right;\">\n",
       "      <th></th>\n",
       "      <th>Year</th>\n",
       "      <th>Sex</th>\n",
       "      <th>Party</th>\n",
       "      <th>Constituency</th>\n",
       "      <th>Votes</th>\n",
       "    </tr>\n",
       "  </thead>\n",
       "  <tbody>\n",
       "    <tr>\n",
       "      <th>278</th>\n",
       "      <td>1999</td>\n",
       "      <td>Total</td>\n",
       "      <td>KaL</td>\n",
       "      <td>Whole country</td>\n",
       "      <td>10104</td>\n",
       "    </tr>\n",
       "    <tr>\n",
       "      <th>344</th>\n",
       "      <td>2003</td>\n",
       "      <td>Total</td>\n",
       "      <td>KaL</td>\n",
       "      <td>Whole country</td>\n",
       "      <td>11485</td>\n",
       "    </tr>\n",
       "    <tr>\n",
       "      <th>542</th>\n",
       "      <td>2015</td>\n",
       "      <td>Total</td>\n",
       "      <td>KaL</td>\n",
       "      <td>Whole country</td>\n",
       "      <td>13638</td>\n",
       "    </tr>\n",
       "    <tr>\n",
       "      <th>670</th>\n",
       "      <td>2023</td>\n",
       "      <td>Total</td>\n",
       "      <td>LIBE</td>\n",
       "      <td>Whole country</td>\n",
       "      <td>14982</td>\n",
       "    </tr>\n",
       "    <tr>\n",
       "      <th>473</th>\n",
       "      <td>2011</td>\n",
       "      <td>Total</td>\n",
       "      <td>Pirate Pty</td>\n",
       "      <td>Whole country</td>\n",
       "      <td>15103</td>\n",
       "    </tr>\n",
       "    <tr>\n",
       "      <th>...</th>\n",
       "      <td>...</td>\n",
       "      <td>...</td>\n",
       "      <td>...</td>\n",
       "      <td>...</td>\n",
       "      <td>...</td>\n",
       "    </tr>\n",
       "    <tr>\n",
       "      <th>332</th>\n",
       "      <td>2003</td>\n",
       "      <td>Total</td>\n",
       "      <td>SDP</td>\n",
       "      <td>Whole country</td>\n",
       "      <td>683223</td>\n",
       "    </tr>\n",
       "    <tr>\n",
       "      <th>333</th>\n",
       "      <td>2003</td>\n",
       "      <td>Total</td>\n",
       "      <td>KESK</td>\n",
       "      <td>Whole country</td>\n",
       "      <td>689391</td>\n",
       "    </tr>\n",
       "    <tr>\n",
       "      <th>68</th>\n",
       "      <td>1987</td>\n",
       "      <td>Total</td>\n",
       "      <td>SDP</td>\n",
       "      <td>Whole country</td>\n",
       "      <td>695331</td>\n",
       "    </tr>\n",
       "    <tr>\n",
       "      <th>200</th>\n",
       "      <td>1995</td>\n",
       "      <td>Total</td>\n",
       "      <td>SDP</td>\n",
       "      <td>Whole country</td>\n",
       "      <td>785637</td>\n",
       "    </tr>\n",
       "    <tr>\n",
       "      <th>2</th>\n",
       "      <td>1983</td>\n",
       "      <td>Total</td>\n",
       "      <td>SDP</td>\n",
       "      <td>Whole country</td>\n",
       "      <td>795953</td>\n",
       "    </tr>\n",
       "  </tbody>\n",
       "</table>\n",
       "<p>101 rows × 5 columns</p>\n",
       "</div>"
      ],
      "text/plain": [
       "     Year    Sex       Party   Constituency   Votes\n",
       "278  1999  Total         KaL  Whole country   10104\n",
       "344  2003  Total         KaL  Whole country   11485\n",
       "542  2015  Total         KaL  Whole country   13638\n",
       "670  2023  Total        LIBE  Whole country   14982\n",
       "473  2011  Total  Pirate Pty  Whole country   15103\n",
       "..    ...    ...         ...            ...     ...\n",
       "332  2003  Total         SDP  Whole country  683223\n",
       "333  2003  Total        KESK  Whole country  689391\n",
       "68   1987  Total         SDP  Whole country  695331\n",
       "200  1995  Total         SDP  Whole country  785637\n",
       "2    1983  Total         SDP  Whole country  795953\n",
       "\n",
       "[101 rows x 5 columns]"
      ]
     },
     "execution_count": 2,
     "metadata": {},
     "output_type": "execute_result"
    }
   ],
   "source": [
    "df = pd.read_csv(\"../data/election-results_statistics-finland.csv\").query(\"Sex == 'Total'\")\n",
    "df.rename(columns={\"Votes cast (number)\":\"Votes\", \"Constituency and municipality in the election year\":\"Constituency\"}, inplace=True)\n",
    "df = df.query(\"Votes != '.'\")\n",
    "df.Votes = df.Votes.astype(int)\n",
    "df = df.query(\"Votes > 10000\").sort_values(\"Votes\")\n",
    "df"
   ]
  },
  {
   "cell_type": "code",
   "execution_count": 3,
   "id": "6e7a9205-12d5-417f-8431-9ea760ba17f5",
   "metadata": {},
   "outputs": [],
   "source": [
    "df_pivot = df.pivot(index=\"Year\", columns=\"Party\", values=\"Votes\").fillna(0)\n",
    "df_pivot = df_pivot.div(df_pivot.sum(axis=1), axis=0).T"
   ]
  },
  {
   "cell_type": "code",
   "execution_count": 4,
   "id": "44066849-7f1d-487c-b57f-a8e49ba083e3",
   "metadata": {},
   "outputs": [
    {
     "data": {
      "image/png": "[encoded data removed]",
      "text/plain": [
       "<Figure size 640x480 with 2 Axes>"
      ]
     },
     "metadata": {},
     "output_type": "display_data"
    }
   ],
   "source": [
    "sns.heatmap(df_pivot, mask=df_pivot == 0, xticklabels=1, yticklabels=1, cmap=cc.fire)\n",
    "plt.savefig(\"../figures/heatmap-elections_finland.pdf\", bbox_inches=\"tight\", transparent=True)"
   ]
  },
  {
   "cell_type": "code",
   "execution_count": null,
   "id": "ed5caf73-416a-49f2-9248-e70def24a9f2",
   "metadata": {},
   "outputs": [],
   "source": []
  }
 ],
 "metadata": {
  "kernelspec": {
   "display_name": "Python 3 (ipykernel)",
   "language": "python",
   "name": "python3"
  },
  "language_info": {
   "codemirror_mode": {
    "name": "ipython",
    "version": 3
   },
   "file_extension": ".py",
   "mimetype": "text/x-python",
   "name": "python",
   "nbconvert_exporter": "python",
   "pygments_lexer": "ipython3",
   "version": "3.12.7"
  }
 },
 "nbformat": 4,
 "nbformat_minor": 5
}
