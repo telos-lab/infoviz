{
 "cells": [
  {
   "cell_type": "markdown",
   "id": "a356ec23-4381-4fde-a3dd-23da3b06546e",
   "metadata": {},
   "source": [
    "# Creating Networks\n",
    "This supplementary notebook demonstrates how to create a network from an edge list (and potentially a node list).  \n",
    "When asked to create a network yourself, the idea is that you create the necessary CSV file(s) manually (rather than based on random data as we do below) and then proceed as described in `Let's read in the data`."
   ]
  },
  {
   "cell_type": "code",
   "execution_count": 1,
   "id": "a0058a80-7ac2-4656-9c9d-183fcd798b3f",
   "metadata": {},
   "outputs": [],
   "source": [
    "%run helper.py"
   ]
  },
  {
   "cell_type": "code",
   "execution_count": 2,
   "id": "a8655bbc-ad2e-4791-97b9-002acb3a552f",
   "metadata": {},
   "outputs": [],
   "source": [
    "import networkx as nx"
   ]
  },
  {
   "cell_type": "markdown",
   "id": "8e4b4b1e-0617-4310-92d2-d326ae2e9d14",
   "metadata": {},
   "source": [
    "### Let's create some dummy data and save it as a CSV file\n",
    "In detail, we:\n",
    "1. Seed our random number generator\n",
    "2. Randomly draw edges, edge weights, and node colors\n",
    "3. Create a DataFrame to represent the edges and saving it to CSV\n",
    "4. Create a DataFrame to represent the nodes and saving it to CSV"
   ]
  },
  {
   "cell_type": "code",
   "execution_count": 3,
   "id": "3648f554-7a83-4905-82d7-99afa18cb213",
   "metadata": {},
   "outputs": [],
   "source": [
    "rng = np.random.default_rng(42)"
   ]
  },
  {
   "cell_type": "code",
   "execution_count": 4,
   "id": "a8630b4c-0bbd-4bac-8baf-87b3716e15fe",
   "metadata": {},
   "outputs": [],
   "source": [
    "edges = rng.choice(range(1,17), size=(20,2), replace=True)\n",
    "weight = rng.choice(range(1,4), size=(20,1), replace=True)\n",
    "colors = rng.choice(range(3), size=(16,1), replace=True)"
   ]
  },
  {
   "cell_type": "code",
   "execution_count": 5,
   "id": "2af30b12-8807-4999-addc-46a201c3f7a9",
   "metadata": {},
   "outputs": [],
   "source": [
    "edge_df = pd.DataFrame(edges, columns=[\"node1\", \"node2\"])\n",
    "edge_df[\"weight\"] = weight\n",
    "# let's filter out self-loops\n",
    "edge_df.query(\"node1 != node2\").to_csv(\"../data/toy-edges.csv\", index=False)"
   ]
  },
  {
   "cell_type": "code",
   "execution_count": 6,
   "id": "0c712a96-e41a-4a32-94ec-1cf462bc061f",
   "metadata": {},
   "outputs": [],
   "source": [
    "node_df = pd.DataFrame(colors, columns=[\"color\"])\n",
    "node_df[\"node\"] = list(range(1,17))\n",
    "node_df[[\"node\",\"color\"]].to_csv(\"../data/toy-nodes.csv\", index=False)"
   ]
  },
  {
   "cell_type": "markdown",
   "id": "9028be84-a2e7-4a87-989f-ba86bc5daa06",
   "metadata": {},
   "source": [
    "### Let's read in the data"
   ]
  },
  {
   "cell_type": "code",
   "execution_count": 7,
   "id": "1471b072-daf3-41a3-9001-e37cd1ebb918",
   "metadata": {},
   "outputs": [
    {
     "data": {
      "text/html": [
       "<div>\n",
       "<style scoped>\n",
       "    .dataframe tbody tr th:only-of-type {\n",
       "        vertical-align: middle;\n",
       "    }\n",
       "\n",
       "    .dataframe tbody tr th {\n",
       "        vertical-align: top;\n",
       "    }\n",
       "\n",
       "    .dataframe thead th {\n",
       "        text-align: right;\n",
       "    }\n",
       "</style>\n",
       "<table border=\"1\" class=\"dataframe\">\n",
       "  <thead>\n",
       "    <tr style=\"text-align: right;\">\n",
       "      <th></th>\n",
       "      <th>node1</th>\n",
       "      <th>node2</th>\n",
       "      <th>weight</th>\n",
       "    </tr>\n",
       "  </thead>\n",
       "  <tbody>\n",
       "    <tr>\n",
       "      <th>0</th>\n",
       "      <td>2</td>\n",
       "      <td>13</td>\n",
       "      <td>2</td>\n",
       "    </tr>\n",
       "    <tr>\n",
       "      <th>1</th>\n",
       "      <td>11</td>\n",
       "      <td>8</td>\n",
       "      <td>1</td>\n",
       "    </tr>\n",
       "    <tr>\n",
       "      <th>2</th>\n",
       "      <td>7</td>\n",
       "      <td>14</td>\n",
       "      <td>3</td>\n",
       "    </tr>\n",
       "    <tr>\n",
       "      <th>3</th>\n",
       "      <td>2</td>\n",
       "      <td>12</td>\n",
       "      <td>3</td>\n",
       "    </tr>\n",
       "    <tr>\n",
       "      <th>4</th>\n",
       "      <td>4</td>\n",
       "      <td>2</td>\n",
       "      <td>3</td>\n",
       "    </tr>\n",
       "    <tr>\n",
       "      <th>5</th>\n",
       "      <td>9</td>\n",
       "      <td>16</td>\n",
       "      <td>3</td>\n",
       "    </tr>\n",
       "    <tr>\n",
       "      <th>6</th>\n",
       "      <td>12</td>\n",
       "      <td>13</td>\n",
       "      <td>2</td>\n",
       "    </tr>\n",
       "    <tr>\n",
       "      <th>7</th>\n",
       "      <td>12</td>\n",
       "      <td>13</td>\n",
       "      <td>3</td>\n",
       "    </tr>\n",
       "    <tr>\n",
       "      <th>8</th>\n",
       "      <td>9</td>\n",
       "      <td>3</td>\n",
       "      <td>2</td>\n",
       "    </tr>\n",
       "    <tr>\n",
       "      <th>9</th>\n",
       "      <td>14</td>\n",
       "      <td>8</td>\n",
       "      <td>1</td>\n",
       "    </tr>\n",
       "    <tr>\n",
       "      <th>10</th>\n",
       "      <td>9</td>\n",
       "      <td>6</td>\n",
       "      <td>3</td>\n",
       "    </tr>\n",
       "    <tr>\n",
       "      <th>11</th>\n",
       "      <td>3</td>\n",
       "      <td>15</td>\n",
       "      <td>2</td>\n",
       "    </tr>\n",
       "    <tr>\n",
       "      <th>12</th>\n",
       "      <td>13</td>\n",
       "      <td>11</td>\n",
       "      <td>1</td>\n",
       "    </tr>\n",
       "    <tr>\n",
       "      <th>13</th>\n",
       "      <td>7</td>\n",
       "      <td>14</td>\n",
       "      <td>2</td>\n",
       "    </tr>\n",
       "    <tr>\n",
       "      <th>14</th>\n",
       "      <td>9</td>\n",
       "      <td>8</td>\n",
       "      <td>3</td>\n",
       "    </tr>\n",
       "    <tr>\n",
       "      <th>15</th>\n",
       "      <td>8</td>\n",
       "      <td>4</td>\n",
       "      <td>1</td>\n",
       "    </tr>\n",
       "    <tr>\n",
       "      <th>16</th>\n",
       "      <td>2</td>\n",
       "      <td>9</td>\n",
       "      <td>2</td>\n",
       "    </tr>\n",
       "    <tr>\n",
       "      <th>17</th>\n",
       "      <td>15</td>\n",
       "      <td>2</td>\n",
       "      <td>1</td>\n",
       "    </tr>\n",
       "    <tr>\n",
       "      <th>18</th>\n",
       "      <td>5</td>\n",
       "      <td>11</td>\n",
       "      <td>2</td>\n",
       "    </tr>\n",
       "  </tbody>\n",
       "</table>\n",
       "</div>"
      ],
      "text/plain": [
       "    node1  node2  weight\n",
       "0       2     13       2\n",
       "1      11      8       1\n",
       "2       7     14       3\n",
       "3       2     12       3\n",
       "4       4      2       3\n",
       "5       9     16       3\n",
       "6      12     13       2\n",
       "7      12     13       3\n",
       "8       9      3       2\n",
       "9      14      8       1\n",
       "10      9      6       3\n",
       "11      3     15       2\n",
       "12     13     11       1\n",
       "13      7     14       2\n",
       "14      9      8       3\n",
       "15      8      4       1\n",
       "16      2      9       2\n",
       "17     15      2       1\n",
       "18      5     11       2"
      ]
     },
     "execution_count": 7,
     "metadata": {},
     "output_type": "execute_result"
    }
   ],
   "source": [
    "edge_df = pd.read_csv(\"../data/toy-edges.csv\")\n",
    "edge_df"
   ]
  },
  {
   "cell_type": "code",
   "execution_count": 8,
   "id": "32f39ecf-4fec-49e3-bb51-da32bb6dcb95",
   "metadata": {},
   "outputs": [
    {
     "data": {
      "text/html": [
       "<div>\n",
       "<style scoped>\n",
       "    .dataframe tbody tr th:only-of-type {\n",
       "        vertical-align: middle;\n",
       "    }\n",
       "\n",
       "    .dataframe tbody tr th {\n",
       "        vertical-align: top;\n",
       "    }\n",
       "\n",
       "    .dataframe thead th {\n",
       "        text-align: right;\n",
       "    }\n",
       "</style>\n",
       "<table border=\"1\" class=\"dataframe\">\n",
       "  <thead>\n",
       "    <tr style=\"text-align: right;\">\n",
       "      <th></th>\n",
       "      <th>node</th>\n",
       "      <th>color</th>\n",
       "    </tr>\n",
       "  </thead>\n",
       "  <tbody>\n",
       "    <tr>\n",
       "      <th>0</th>\n",
       "      <td>1</td>\n",
       "      <td>0</td>\n",
       "    </tr>\n",
       "    <tr>\n",
       "      <th>1</th>\n",
       "      <td>2</td>\n",
       "      <td>2</td>\n",
       "    </tr>\n",
       "    <tr>\n",
       "      <th>2</th>\n",
       "      <td>3</td>\n",
       "      <td>2</td>\n",
       "    </tr>\n",
       "    <tr>\n",
       "      <th>3</th>\n",
       "      <td>4</td>\n",
       "      <td>1</td>\n",
       "    </tr>\n",
       "    <tr>\n",
       "      <th>4</th>\n",
       "      <td>5</td>\n",
       "      <td>0</td>\n",
       "    </tr>\n",
       "    <tr>\n",
       "      <th>5</th>\n",
       "      <td>6</td>\n",
       "      <td>2</td>\n",
       "    </tr>\n",
       "    <tr>\n",
       "      <th>6</th>\n",
       "      <td>7</td>\n",
       "      <td>1</td>\n",
       "    </tr>\n",
       "    <tr>\n",
       "      <th>7</th>\n",
       "      <td>8</td>\n",
       "      <td>2</td>\n",
       "    </tr>\n",
       "    <tr>\n",
       "      <th>8</th>\n",
       "      <td>9</td>\n",
       "      <td>2</td>\n",
       "    </tr>\n",
       "    <tr>\n",
       "      <th>9</th>\n",
       "      <td>10</td>\n",
       "      <td>2</td>\n",
       "    </tr>\n",
       "    <tr>\n",
       "      <th>10</th>\n",
       "      <td>11</td>\n",
       "      <td>2</td>\n",
       "    </tr>\n",
       "    <tr>\n",
       "      <th>11</th>\n",
       "      <td>12</td>\n",
       "      <td>0</td>\n",
       "    </tr>\n",
       "    <tr>\n",
       "      <th>12</th>\n",
       "      <td>13</td>\n",
       "      <td>1</td>\n",
       "    </tr>\n",
       "    <tr>\n",
       "      <th>13</th>\n",
       "      <td>14</td>\n",
       "      <td>1</td>\n",
       "    </tr>\n",
       "    <tr>\n",
       "      <th>14</th>\n",
       "      <td>15</td>\n",
       "      <td>1</td>\n",
       "    </tr>\n",
       "    <tr>\n",
       "      <th>15</th>\n",
       "      <td>16</td>\n",
       "      <td>0</td>\n",
       "    </tr>\n",
       "  </tbody>\n",
       "</table>\n",
       "</div>"
      ],
      "text/plain": [
       "    node  color\n",
       "0      1      0\n",
       "1      2      2\n",
       "2      3      2\n",
       "3      4      1\n",
       "4      5      0\n",
       "5      6      2\n",
       "6      7      1\n",
       "7      8      2\n",
       "8      9      2\n",
       "9     10      2\n",
       "10    11      2\n",
       "11    12      0\n",
       "12    13      1\n",
       "13    14      1\n",
       "14    15      1\n",
       "15    16      0"
      ]
     },
     "execution_count": 8,
     "metadata": {},
     "output_type": "execute_result"
    }
   ],
   "source": [
    "node_df = pd.read_csv(\"../data/toy-nodes.csv\")\n",
    "node_df"
   ]
  },
  {
   "cell_type": "markdown",
   "id": "c6b72ed9-58ba-494f-942a-ea79c238cf0d",
   "metadata": {},
   "source": [
    "### Let's put it into a graph\n",
    "In detail, we:\n",
    "1. Create an undirected graph object\n",
    "2. Add nodes to the graph along with node attributes\n",
    "3. Add edges to the graph along with edge attributes (only adding edges also works but adding nodes separately will be necessary if you have nodes that are not connected to any of the other nodes)\n",
    "\n",
    "If you are confused about the list comprehensions, you can also add the nodes or edges first and then set the attributes later, using `nx.set_{node|edge}_attributes`."
   ]
  },
  {
   "cell_type": "code",
   "execution_count": 9,
   "id": "78e175ec-25e3-4e25-b305-24368dff8816",
   "metadata": {},
   "outputs": [],
   "source": [
    "G = nx.Graph()\n",
    "G.add_nodes_from([(n, dict(color=c)) for n,c in zip(node_df.node, node_df.color)])\n",
    "G.add_edges_from([(u,v, dict(weight=w)) for u,v,w in zip(edge_df.node1, edge_df.node2, edge_df.weight)])"
   ]
  },
  {
   "cell_type": "markdown",
   "id": "364d9f0c-f21e-471c-8b85-7a196ede65cf",
   "metadata": {},
   "source": [
    "### Let's draw the graph\n",
    "\n",
    "To do this, it helps to know how to get the attributes out of the graph (you can also assign them from the DataFrames directly but that risks messing up the ordering). You can do this with the `{Node|Edge}DataView` idiom, demonstrated below."
   ]
  },
  {
   "cell_type": "code",
   "execution_count": 10,
   "id": "47a6556f-68ae-46a6-a174-bda07d48672d",
   "metadata": {},
   "outputs": [
    {
     "data": {
      "text/plain": [
       "NodeDataView({1: 0, 2: 2, 3: 2, 4: 1, 5: 0, 6: 2, 7: 1, 8: 2, 9: 2, 10: 2, 11: 2, 12: 0, 13: 1, 14: 1, 15: 1, 16: 0}, data='color')"
      ]
     },
     "execution_count": 10,
     "metadata": {},
     "output_type": "execute_result"
    }
   ],
   "source": [
    "G.nodes(data=\"color\")"
   ]
  },
  {
   "cell_type": "code",
   "execution_count": 11,
   "id": "14f5f2b5-2fc2-40ea-9c8b-74f19eec7aa5",
   "metadata": {},
   "outputs": [
    {
     "data": {
      "image/png": "[encoded data removed]",
      "text/plain": [
       "<Figure size 600x600 with 1 Axes>"
      ]
     },
     "metadata": {},
     "output_type": "display_data"
    }
   ],
   "source": [
    "fig, ax = plt.subplots(figsize=(6,6))\n",
    "pos = nx.circular_layout(G)\n",
    "nx.draw_networkx_nodes(G, node_color=[cc.glasbey_hv[c] for _, c in G.nodes(data=\"color\")], ax=ax, pos=pos)\n",
    "nx.draw_networkx_labels(G, ax=ax, pos=pos)\n",
    "nx.draw_networkx_edges(G, ax=ax, pos=pos, width=[w for _, _, w in G.edges(data=\"weight\")])\n",
    "ax.set_axis_off()\n",
    "plt.tight_layout()"
   ]
  },
  {
   "cell_type": "code",
   "execution_count": null,
   "id": "018253a0-d58c-4a54-9a08-09de4f060ece",
   "metadata": {},
   "outputs": [],
   "source": []
  }
 ],
 "metadata": {
  "kernelspec": {
   "display_name": "Python 3 (ipykernel)",
   "language": "python",
   "name": "python3"
  },
  "language_info": {
   "codemirror_mode": {
    "name": "ipython",
    "version": 3
   },
   "file_extension": ".py",
   "mimetype": "text/x-python",
   "name": "python",
   "nbconvert_exporter": "python",
   "pygments_lexer": "ipython3",
   "version": "3.12.7"
  }
 },
 "nbformat": 4,
 "nbformat_minor": 5
}
