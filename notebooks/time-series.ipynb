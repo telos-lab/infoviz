{
 "cells": [
  {
   "cell_type": "markdown",
   "id": "1db752b2-636b-4719-ad48-b9c7400d3ada",
   "metadata": {},
   "source": [
    "# Time Series"
   ]
  },
  {
   "cell_type": "code",
   "execution_count": null,
   "id": "bfead9fc-c74c-482a-a7c2-21e810150ad4",
   "metadata": {},
   "outputs": [],
   "source": [
    "%run helper.py"
   ]
  },
  {
   "cell_type": "markdown",
   "id": "da596be7-9ee4-48a5-90ee-a77bef16b5b9",
   "metadata": {},
   "source": [
    "## Line Charts"
   ]
  },
  {
   "cell_type": "code",
   "execution_count": null,
   "id": "bce580fb-49ed-4fbf-9c98-937635a7570b",
   "metadata": {},
   "outputs": [],
   "source": [
    "df = sns.load_dataset(\"dowjones\")\n",
    "df.head(5)"
   ]
  },
  {
   "cell_type": "code",
   "execution_count": null,
   "id": "bfe3306e-f108-4109-a0c7-1ea50aad1150",
   "metadata": {},
   "outputs": [],
   "source": [
    "fig, ax = plt.subplots(1,1,figsize=(9,6))\n",
    "sns.lineplot(df, x=\"Date\", y=\"Price\", ax=ax, color=cc.glasbey_hv[1])\n",
    "sns.despine(fig)\n",
    "ax.set_xlabel(\"Date\")\n",
    "ax.set_ylabel(\"Dow-Jones Index (USD/Share)\")\n",
    "plt.tight_layout()\n",
    "plt.savefig(f\"../figures/timeseries_line-dowjones.pdf\", bbox_inches=\"tight\", transparent=True)"
   ]
  },
  {
   "cell_type": "markdown",
   "id": "8b42b201-e217-43b0-a0ad-dfb2e58ce95d",
   "metadata": {},
   "source": [
    "## Alternatives to Line Charts"
   ]
  },
  {
   "cell_type": "code",
   "execution_count": null,
   "id": "ca573417-4a9a-4254-8e92-04c5cecb446d",
   "metadata": {},
   "outputs": [],
   "source": [
    "df = pd.read_csv(\"../data/../data/election-results_statistics-finland.csv\"\n",
    "                ).query(\"Sex == 'Total'\"\n",
    ").rename(columns={\"Votes cast (number)\":\"Votes\", \"Constituency and municipality in the election year\":\"Constituency\"}\n",
    "        ).query(\"Votes != '.' and Constituency == 'Whole country'\")\n",
    "df[\"Votes\"] = df.Votes.astype(int)\n",
    "df.groupby(\"Year\").agg(dict(Votes=\"sum\"))"
   ]
  },
  {
   "cell_type": "markdown",
   "id": "b470da7a-b038-41ae-95fd-1ea500db5067",
   "metadata": {},
   "source": [
    "### Problem: Intermediate values should not be interpolated $\\to$ Line chart inadequate"
   ]
  },
  {
   "cell_type": "code",
   "execution_count": null,
   "id": "fd300a0b-9b27-4c80-a97b-9b309cd9c1de",
   "metadata": {},
   "outputs": [],
   "source": [
    "fig, ax = plt.subplots(1,1,figsize=(9,6))\n",
    "sns.lineplot(df.groupby(\"Year\").agg(dict(Votes=\"sum\")), x=\"Year\", y=\"Votes\", lw=2, \n",
    "             ax=ax, color=cc.glasbey_hv[1])\n",
    "ax.set_ylabel(\"Number of Votes Cast\")\n",
    "sns.despine(fig)\n",
    "plt.tight_layout()\n",
    "plt.savefig(f\"../figures/timeseries_line-elections_finland.pdf\", bbox_inches=\"tight\", transparent=True)"
   ]
  },
  {
   "cell_type": "code",
   "execution_count": null,
   "id": "6f510cdc-addd-491a-986c-d16554920a7f",
   "metadata": {},
   "outputs": [],
   "source": [
    "fig, ax = plt.subplots(1,1,figsize=(9,6))\n",
    "sns.lineplot(df.groupby(\"Year\").agg(dict(Votes=\"sum\")), x=\"Year\", y=\"Votes\", lw=2, \n",
    "             ax=ax, color=cc.glasbey_hv[1], marker=\"o\", markersize=15)\n",
    "ax.set_ylabel(\"Number of Votes Cast\")\n",
    "sns.despine(fig)\n",
    "plt.tight_layout()\n",
    "plt.savefig(f\"../figures/timeseries_line-elections_finland_with-dots.pdf\", bbox_inches=\"tight\", transparent=True)"
   ]
  },
  {
   "cell_type": "markdown",
   "id": "2439a9e7-45be-41de-8b6e-12c4057413fc",
   "metadata": {},
   "source": [
    "### Problem: Large nonzero baseline with small variation on top of that baseline $\\to$ Bar chart inadequate"
   ]
  },
  {
   "cell_type": "code",
   "execution_count": null,
   "id": "c7b975bb-4fba-4b0f-ad2b-7d61365df3d5",
   "metadata": {},
   "outputs": [],
   "source": [
    "fig, ax = plt.subplots(1,1,figsize=(9,6))\n",
    "sns.barplot(df.groupby(\"Year\").agg(dict(Votes=\"sum\")), x=\"Year\", y=\"Votes\", ax=ax, color=cc.glasbey_hv[1])\n",
    "ax.set_ylabel(\"Number of Votes Cast\")\n",
    "ax.set_xticks(ax.get_xticks(), [rf\"${x}$\" for x in range(1983,2024,4)])\n",
    "sns.despine(fig)\n",
    "plt.tight_layout()\n",
    "plt.savefig(f\"../figures/timeseries_bar-elections_finland.pdf\", bbox_inches=\"tight\", transparent=True)"
   ]
  },
  {
   "cell_type": "markdown",
   "id": "3454a728-eb11-4797-8569-3867ccdc2843",
   "metadata": {},
   "source": [
    "### Option: Dot plot (does not require zero baseline + does not suggest interpolation)"
   ]
  },
  {
   "cell_type": "code",
   "execution_count": null,
   "id": "a993bb1c-93c0-4b8c-aa7f-88cbd76e921e",
   "metadata": {},
   "outputs": [],
   "source": [
    "fig, ax = plt.subplots(1,1,figsize=(9,6))\n",
    "sns.stripplot(df.groupby(\"Year\").agg(dict(Votes=\"sum\")), x=\"Year\", y=\"Votes\", s=15, ax=ax, color=cc.glasbey_hv[1])\n",
    "ax.set_ylabel(\"Number of Votes Cast\")\n",
    "ax.set_xticks(ax.get_xticks(), [rf\"${x}$\" for x in range(1983,2024,4)])\n",
    "sns.despine(fig)\n",
    "plt.tight_layout()\n",
    "plt.savefig(f\"../figures/timeseries_dot-elections_finland.pdf\", bbox_inches=\"tight\", transparent=True)"
   ]
  },
  {
   "cell_type": "markdown",
   "id": "12fa270a-5814-4602-8725-0f83e0c4b7c9",
   "metadata": {},
   "source": [
    "### Bars over time"
   ]
  },
  {
   "cell_type": "code",
   "execution_count": null,
   "id": "a1ce3fc4-c74b-48c6-935e-94bde2eea0ed",
   "metadata": {},
   "outputs": [],
   "source": [
    "selected = [\"KOK\", \"PS\", \"SDP\"]\n",
    "vote_differences = df.query(\"Year >= 2000 and Party in @selected\").pivot(index=[\"Year\"], columns=[\"Party\"], values=[\"Votes\"]).diff().dropna()"
   ]
  },
  {
   "cell_type": "code",
   "execution_count": null,
   "id": "f6a536bc-418f-4cf0-9db7-52d63ac88b16",
   "metadata": {},
   "outputs": [],
   "source": [
    "vote_df = vote_differences.T.reset_index().set_index(\"Party\").T.drop(index=\"level_0\").reset_index().melt(id_vars=\"Year\")\n",
    "vote_df.head(1)"
   ]
  },
  {
   "cell_type": "code",
   "execution_count": null,
   "id": "47b96be0-6f31-48dd-9aec-90fd163cbb0e",
   "metadata": {},
   "outputs": [],
   "source": [
    "fig, ax = plt.subplots(1,1,figsize=(9,6))\n",
    "sns.barplot(vote_df, x=\"Year\", y=\"value\", hue=\"Party\", ax=ax, palette=cc.glasbey_hv[:3])\n",
    "ax.hlines(0, xmin=-0.5, xmax=4.5, color=\"k\")\n",
    "ax.set_xlim(-0.5,4.5)\n",
    "ax.set_ylabel(r\"$\\Delta$ Votes (This $-$ Previous Election)\")\n",
    "ax.set_xlabel(\"\")\n",
    "sns.despine(fig)\n",
    "plt.tight_layout()\n",
    "plt.savefig(f\"../figures/timeseries_bars-elections_finland.pdf\", bbox_inches=\"tight\", transparent=True)"
   ]
  },
  {
   "cell_type": "markdown",
   "id": "df8d389a-c12a-44f8-a80a-71e9b7d1eb5a",
   "metadata": {},
   "source": [
    "## Box plots as time series"
   ]
  },
  {
   "cell_type": "code",
   "execution_count": null,
   "id": "c4a4e1b4-ad63-40e1-aa3b-703bb9be7a35",
   "metadata": {},
   "outputs": [],
   "source": [
    "df = pd.read_csv(\"../data/weather-helsinki-lighthouse_fmi.csv\")\n",
    "df[\"Month_adj\"] = df.Month - 1\n",
    "df[\"Date\"] = [pd.to_datetime(f\"{y}-{m:02}-{d:02}\") for y,m,d in zip(df.Year, df.Month, df.Day)]\n",
    "df.head(1)"
   ]
  },
  {
   "cell_type": "code",
   "execution_count": null,
   "id": "ba1f35bb-5f13-455c-a3bb-b73599c36f1f",
   "metadata": {},
   "outputs": [],
   "source": [
    "fig, ax = plt.subplots(1,1,figsize=(9,6))\n",
    "sns.boxplot(df, x=\"Month\", y=\"Average temperature [°C]\", whis=(0,100), ax=ax, color=cc.glasbey_hv[1], linewidth=2)\n",
    "sns.lineplot(df, x=\"Month_adj\", y=\"Average temperature [°C]\", estimator=\"mean\", errorbar=None, ax=ax, color=\"k\",\n",
    "             zorder=100, label=\"Mean\")\n",
    "sns.despine(fig)\n",
    "ax.set_ylabel(\"Daily Average Temperature [°C]\")\n",
    "plt.tight_layout()\n",
    "plt.savefig(f\"../figures/timeseries_box-weather_helsinki.pdf\", bbox_inches=\"tight\", transparent=True)"
   ]
  },
  {
   "cell_type": "markdown",
   "id": "96ffe265-d0fb-4b09-ae5b-2cf82cce1416",
   "metadata": {},
   "source": [
    "### Reference ranges for orientation"
   ]
  },
  {
   "cell_type": "code",
   "execution_count": null,
   "id": "9d96b753-8221-428d-82f1-e5fa4b50dbfa",
   "metadata": {},
   "outputs": [],
   "source": [
    "fig, ax = plt.subplots(1,1,figsize=(9,6))\n",
    "sns.lineplot(df, x=\"Month_adj\", y=\"Average temperature [°C]\", estimator=\"median\", \n",
    "             errorbar=(\"pi\",75), ax=ax, color=cc.glasbey_hv[1])\n",
    "sns.lineplot(df, x=\"Month_adj\", y=\"Average temperature [°C]\", estimator=\"median\", \n",
    "             errorbar=(\"pi\",100), ax=ax, color=cc.glasbey_hv[1])\n",
    "sns.lineplot(df, x=\"Month_adj\", y=\"Average temperature [°C]\", estimator=\"mean\", errorbar=None, ax=ax, color=\"k\",\n",
    "             zorder=100, label=\"Mean\")\n",
    "sns.despine(fig)\n",
    "ax.set_ylabel(\"Daily Average Temperature [°C]\")\n",
    "ax.set_xlabel(\"Month\")\n",
    "plt.tight_layout()\n",
    "plt.savefig(f\"../figures/timeseries_line-weather_helsinki.pdf\", bbox_inches=\"tight\", transparent=True)"
   ]
  },
  {
   "cell_type": "markdown",
   "id": "6348aeef-76b2-440a-bcd3-f92784d2031a",
   "metadata": {},
   "source": [
    "### Small multiples"
   ]
  },
  {
   "cell_type": "code",
   "execution_count": null,
   "id": "3c420ad5-00e5-4143-b74c-052361ce13d5",
   "metadata": {},
   "outputs": [],
   "source": [
    "g = sns.relplot(\n",
    "    data=df.query(\"2010 <= Year < 2025\"),\n",
    "    x=\"Month\", y=\"Average temperature [°C]\", col=\"Year\", hue=\"Year\",\n",
    "    kind=\"line\",palette=cmr.ember, linewidth=4, zorder=5,\n",
    "    col_wrap=5, height=3, aspect=1.3, legend=False,estimator=\"mean\",errorbar=(\"pi\",100), \n",
    ")\n",
    "\n",
    "for year, ax in g.axes_dict.items():\n",
    "    ax.text(.8, .85, year, transform=ax.transAxes, fontsize=20)\n",
    "\n",
    "    sns.lineplot(\n",
    "        data=df.query(\"2010 <= Year < 2025\"), x=\"Month\", y=\"Average temperature [°C]\", \n",
    "        estimator=\"mean\",\n",
    "        errorbar=(\"pi\",100), color=\"silver\", linewidth=2, ax=ax, legend=False, alpha=0.5\n",
    "    )\n",
    "\n",
    "    ax.set_xticks([1,4,7,10])\n",
    "    ax.set_xlim(1,12)\n",
    "\n",
    "g.set_titles(\"\")\n",
    "\n",
    "g.set_axis_labels(\"\", \"Avg. Temp. [°C]\")\n",
    "g.tight_layout(w_pad=0.1, h_pad=0.1)\n",
    "g.savefig(f\"../figures/timeseries_split-weather_helsinki.pdf\", bbox_inches=\"tight\", transparent=True)"
   ]
  },
  {
   "cell_type": "markdown",
   "id": "0aeca2da-2917-43de-a2d8-514eaac0f828",
   "metadata": {},
   "source": [
    "### Series of grouped bars"
   ]
  },
  {
   "cell_type": "code",
   "execution_count": null,
   "id": "e6770fc6-9c38-4038-bc7c-bba34427514b",
   "metadata": {},
   "outputs": [],
   "source": [
    "fig, ax = plt.subplots(1,1,figsize=(9,6))\n",
    "sns.barplot(df.query(\"2020 <= Year < 2025\"), x=\"Month\", y=\"Average temperature [°C]\", \n",
    "            hue=\"Year\", palette=cmr.ember.resampled(15).colors[10:].tolist(), \n",
    "            estimator=\"mean\", errorbar=None, ax=ax)\n",
    "sns.despine(fig)\n",
    "plt.tight_layout()\n",
    "plt.savefig(f\"../figures/timeseries_bars-weather_helsinki.pdf\", bbox_inches=\"tight\", transparent=True)"
   ]
  },
  {
   "cell_type": "markdown",
   "id": "54971176-de44-4323-a52d-a74284d2d5bf",
   "metadata": {},
   "source": [
    "### Boxes as elements"
   ]
  },
  {
   "cell_type": "code",
   "execution_count": null,
   "id": "0cfce9f1-8afa-4928-9ba5-34391bff9e66",
   "metadata": {},
   "outputs": [],
   "source": [
    "from matplotlib.lines import Line2D"
   ]
  },
  {
   "cell_type": "code",
   "execution_count": null,
   "id": "9f4dcfe4-e738-49af-bd14-8ca1ba7d6499",
   "metadata": {},
   "outputs": [],
   "source": [
    "fig, ax = plt.subplots(1,1,figsize=(9,6))\n",
    "sns.pointplot(df.query(\"2020 <= Year < 2025\"), y=\"Month\", x=\"Average temperature [°C]\", orient=\"h\",\n",
    "         estimator=\"mean\", errorbar=(\"pi\",100), err_kws=dict(lw=16.5, color=\"silver\"), lw=0, \n",
    "             )\n",
    "sns.pointplot(df.query(\"2020 <= Year < 2025\"), y=\"Month\", x=\"Average temperature [°C]\", orient=\"h\",\n",
    "         estimator=\"mean\", errorbar=None, lw=5, linestyle=\"none\", color=cc.glasbey_hv[1], marker=\"o\", label=\"Mean\"\n",
    "             )\n",
    "handles, labels = ax.get_legend_handles_labels()\n",
    "ax.legend(handles=handles + [Line2D((0,1),(0,1),linewidth=16.5, color=\"silver\")], labels=labels+[\"Range\"])\n",
    "sns.despine(fig)\n",
    "plt.tight_layout()\n",
    "plt.savefig(f\"../figures/timeseries_boxes-weather_helsinki.pdf\", bbox_inches=\"tight\", transparent=True)"
   ]
  },
  {
   "cell_type": "markdown",
   "id": "dda9c878-10d9-45a4-9d55-33784485b3f8",
   "metadata": {},
   "source": [
    "### Superimposition vs. small multiples"
   ]
  },
  {
   "cell_type": "code",
   "execution_count": null,
   "id": "1f3e6b3b-7a7a-447e-a8d5-b78754c030bc",
   "metadata": {},
   "outputs": [],
   "source": [
    "fig, ax = plt.subplots(1,1,figsize=(18,5))\n",
    "sns.lineplot(df.query(\"2020 <= Year < 2025\"), x=\"Month\", y=\"Average temperature [°C]\", estimator=\"median\", \n",
    "             errorbar=None, ax=ax, palette=cmr.ember.resampled(5).colors.tolist(), hue=\"Year\", lw=3, \n",
    "             style=\"Year\"\n",
    "            )\n",
    "ax.set_xticks(range(1,13))\n",
    "ax.set_xlim(1,12)\n",
    "ax.set_ylabel(\"Daily Average Temperature [°C]\")\n",
    "ax.set_xlabel(\"Month\")\n",
    "ax.legend(title=\"\", ncol=2, loc=\"upper right\", columnspacing=1, borderaxespad=0, borderpad=0)\n",
    "sns.despine(fig, trim=True)\n",
    "plt.tight_layout()\n",
    "plt.savefig(f\"../figures/timeseries_lines-weather_helsinki.pdf\", bbox_inches=\"tight\", transparent=True)"
   ]
  },
  {
   "cell_type": "code",
   "execution_count": null,
   "id": "a63fa338-edf4-4947-bd1a-c92548882708",
   "metadata": {},
   "outputs": [],
   "source": [
    "fig, ax = plt.subplots(5,1,figsize=(18,5), sharex=True, sharey=True)\n",
    "for idx,year in enumerate(range(2020, 2025)):\n",
    "    sns.lineplot(df.query(\"Year == @year\"), x=\"Month\", y=\"Average temperature [°C]\", estimator=\"median\", \n",
    "                 errorbar=None, ax=ax[idx], palette=cmr.ember.resampled(5).colors.tolist()[idx:idx+1], hue=\"Year\", lw=3, \n",
    "                 style=\"Year\", legend=False\n",
    "                )\n",
    "    ax[idx].annotate(f\"${year}$\", xy=(11.5,12), fontsize=20)\n",
    "    ax[idx].set_ylabel(\"\")\n",
    "ax[-1].set_xticks(range(1,13))\n",
    "ax[-1].set_xlim(1,12)\n",
    "ax[-1].set_xlabel(\"Month\")\n",
    "sns.despine(fig, trim=True)\n",
    "plt.tight_layout()\n",
    "plt.savefig(f\"../figures/timeseries_lines_separated-weather_helsinki.pdf\", bbox_inches=\"tight\", transparent=True)"
   ]
  },
  {
   "cell_type": "code",
   "execution_count": null,
   "id": "662fceff-cb1e-46b9-86f2-23f9de96a94a",
   "metadata": {},
   "outputs": [],
   "source": []
  }
 ],
 "metadata": {
  "kernelspec": {
   "display_name": "Python 3 (ipykernel)",
   "language": "python",
   "name": "python3"
  },
  "language_info": {
   "codemirror_mode": {
    "name": "ipython",
    "version": 3
   },
   "file_extension": ".py",
   "mimetype": "text/x-python",
   "name": "python",
   "nbconvert_exporter": "python",
   "pygments_lexer": "ipython3",
   "version": "3.12.7"
  }
 },
 "nbformat": 4,
 "nbformat_minor": 5
}
